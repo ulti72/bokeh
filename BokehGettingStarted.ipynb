{
  "nbformat": 4,
  "nbformat_minor": 0,
  "metadata": {
    "colab": {
      "name": "BokehGettingStarted.ipynb",
      "provenance": [],
      "mount_file_id": "1zcjvZ7lwV97SOouX3LVTgzgIEeQTcr9i",
      "authorship_tag": "ABX9TyN6706fLXmOfUys1azrZD/q",
      "include_colab_link": true
    },
    "kernelspec": {
      "name": "python3",
      "display_name": "Python 3"
    }
  },
  "cells": [
    {
      "cell_type": "markdown",
      "metadata": {
        "id": "view-in-github",
        "colab_type": "text"
      },
      "source": [
        "<a href=\"https://colab.research.google.com/github/ulti72/bokeh/blob/master/BokehGettingStarted.ipynb\" target=\"_parent\"><img src=\"https://colab.research.google.com/assets/colab-badge.svg\" alt=\"Open In Colab\"/></a>"
      ]
    },
    {
      "cell_type": "code",
      "metadata": {
        "id": "9faIr2T1-CGS",
        "colab_type": "code",
        "colab": {}
      },
      "source": [
        "#Installing libraries\n",
        "!pip install bokeh\n",
        "!pip install pandas"
      ],
      "execution_count": 0,
      "outputs": []
    },
    {
      "cell_type": "code",
      "metadata": {
        "id": "yAqrOdwI-KxD",
        "colab_type": "code",
        "colab": {}
      },
      "source": [
        "#Importing libraries\n",
        "import numpy as np\n",
        "import pandas as pd"
      ],
      "execution_count": 0,
      "outputs": []
    },
    {
      "cell_type": "code",
      "metadata": {
        "id": "5J3TaKLAQ-_Y",
        "colab_type": "code",
        "colab": {}
      },
      "source": [
        "#Creating data frame and shuffling row\n",
        "myData =pd.read_csv('Pokemon.csv',delimiter = ',').sample(frac=1)\n",
        "#Choosing generation 1 pokemon\n",
        "myData= myData[myData.Generation ==1]"
      ],
      "execution_count": 0,
      "outputs": []
    },
    {
      "cell_type": "code",
      "metadata": {
        "id": "VJOYbti8T8C5",
        "colab_type": "code",
        "outputId": "cc48171b-ee78-45cf-bd73-51dab5a202b0",
        "colab": {
          "base_uri": "https://localhost:8080/",
          "height": 206
        }
      },
      "source": [
        "#Data Overview\n",
        "myData.head()"
      ],
      "execution_count": 140,
      "outputs": [
        {
          "output_type": "execute_result",
          "data": {
            "text/html": [
              "<div>\n",
              "<style scoped>\n",
              "    .dataframe tbody tr th:only-of-type {\n",
              "        vertical-align: middle;\n",
              "    }\n",
              "\n",
              "    .dataframe tbody tr th {\n",
              "        vertical-align: top;\n",
              "    }\n",
              "\n",
              "    .dataframe thead th {\n",
              "        text-align: right;\n",
              "    }\n",
              "</style>\n",
              "<table border=\"1\" class=\"dataframe\">\n",
              "  <thead>\n",
              "    <tr style=\"text-align: right;\">\n",
              "      <th></th>\n",
              "      <th>Name</th>\n",
              "      <th>Total</th>\n",
              "      <th>HP</th>\n",
              "      <th>Attack</th>\n",
              "      <th>Defense</th>\n",
              "      <th>Sp. Atk</th>\n",
              "      <th>Sp. Def</th>\n",
              "      <th>Speed</th>\n",
              "      <th>Generation</th>\n",
              "      <th>Legendary</th>\n",
              "    </tr>\n",
              "  </thead>\n",
              "  <tbody>\n",
              "    <tr>\n",
              "      <th>133</th>\n",
              "      <td>Jynx</td>\n",
              "      <td>455</td>\n",
              "      <td>65</td>\n",
              "      <td>50</td>\n",
              "      <td>35</td>\n",
              "      <td>115</td>\n",
              "      <td>95</td>\n",
              "      <td>95</td>\n",
              "      <td>1</td>\n",
              "      <td>F</td>\n",
              "    </tr>\n",
              "    <tr>\n",
              "      <th>81</th>\n",
              "      <td>Graveler</td>\n",
              "      <td>390</td>\n",
              "      <td>55</td>\n",
              "      <td>95</td>\n",
              "      <td>115</td>\n",
              "      <td>45</td>\n",
              "      <td>45</td>\n",
              "      <td>35</td>\n",
              "      <td>1</td>\n",
              "      <td>F</td>\n",
              "    </tr>\n",
              "    <tr>\n",
              "      <th>16</th>\n",
              "      <td>Weedle</td>\n",
              "      <td>195</td>\n",
              "      <td>40</td>\n",
              "      <td>35</td>\n",
              "      <td>30</td>\n",
              "      <td>20</td>\n",
              "      <td>20</td>\n",
              "      <td>50</td>\n",
              "      <td>1</td>\n",
              "      <td>F</td>\n",
              "    </tr>\n",
              "    <tr>\n",
              "      <th>121</th>\n",
              "      <td>Chansey</td>\n",
              "      <td>450</td>\n",
              "      <td>250</td>\n",
              "      <td>5</td>\n",
              "      <td>5</td>\n",
              "      <td>35</td>\n",
              "      <td>105</td>\n",
              "      <td>50</td>\n",
              "      <td>1</td>\n",
              "      <td>F</td>\n",
              "    </tr>\n",
              "    <tr>\n",
              "      <th>37</th>\n",
              "      <td>Nidoran♂</td>\n",
              "      <td>273</td>\n",
              "      <td>46</td>\n",
              "      <td>57</td>\n",
              "      <td>40</td>\n",
              "      <td>40</td>\n",
              "      <td>40</td>\n",
              "      <td>50</td>\n",
              "      <td>1</td>\n",
              "      <td>F</td>\n",
              "    </tr>\n",
              "  </tbody>\n",
              "</table>\n",
              "</div>"
            ],
            "text/plain": [
              "         Name  Total   HP  Attack  ...  Sp. Def  Speed  Generation  Legendary\n",
              "133      Jynx    455   65      50  ...       95     95           1          F\n",
              "81   Graveler    390   55      95  ...       45     35           1          F\n",
              "16     Weedle    195   40      35  ...       20     50           1          F\n",
              "121   Chansey    450  250       5  ...      105     50           1          F\n",
              "37   Nidoran♂    273   46      57  ...       40     50           1          F\n",
              "\n",
              "[5 rows x 10 columns]"
            ]
          },
          "metadata": {
            "tags": []
          },
          "execution_count": 140
        }
      ]
    },
    {
      "cell_type": "code",
      "metadata": {
        "id": "crbJiT9PZc2R",
        "colab_type": "code",
        "colab": {}
      },
      "source": [
        "#Importing bokeh libraries\n",
        "from bokeh.plotting import figure, output_file, show\n",
        "from bokeh.io import output_notebook\n",
        "from bokeh.models import ColumnDataSource\n",
        "from bokeh.models.tools import HoverTool"
      ],
      "execution_count": 0,
      "outputs": []
    },
    {
      "cell_type": "code",
      "metadata": {
        "id": "uvSeqk5_ZV0D",
        "colab_type": "code",
        "colab": {}
      },
      "source": [
        "#output_file how visulization will render (html_file)\n",
        "#figure handles stlying of plots, labels, axes and methods for adding data to plot\n",
        "#show tells bokeh it is time to render it."
      ],
      "execution_count": 0,
      "outputs": []
    },
    {
      "cell_type": "code",
      "metadata": {
        "id": "kS9PF_BdZOHb",
        "colab_type": "code",
        "colab": {}
      },
      "source": [
        "#Generating output in html\n",
        "output_file('my_first_graph.html')\n",
        "#for rendering graph on notebook\n",
        "output_notebook()\n"
      ],
      "execution_count": 0,
      "outputs": []
    },
    {
      "cell_type": "code",
      "metadata": {
        "id": "sqeiJtwRZCmI",
        "colab_type": "code",
        "colab": {}
      },
      "source": [
        "\n",
        "#Creating total attack and total defense\n",
        "totalDef = myData['Defense'] + myData['Sp. Def']\n",
        "totalAtt = myData['Attack'] + myData['Sp. Atk'] \n",
        "#Adding total attack and total defense to dataframe\n",
        "myData['totalDef']= totalDef\n",
        "myData['totalAtt']= totalAtt\n",
        "\n"
      ],
      "execution_count": 0,
      "outputs": []
    },
    {
      "cell_type": "code",
      "metadata": {
        "id": "YmHQZGY4iHg9",
        "colab_type": "code",
        "colab": {
          "base_uri": "https://localhost:8080/",
          "height": 241
        },
        "outputId": "c3814265-d66b-4305-aefd-56857b188a3f"
      },
      "source": [
        "\n",
        "myData.columns.tolist()"
      ],
      "execution_count": 150,
      "outputs": [
        {
          "output_type": "execute_result",
          "data": {
            "text/plain": [
              "['Name',\n",
              " 'Total',\n",
              " 'HP',\n",
              " 'Attack',\n",
              " 'Defense',\n",
              " 'Sp. Atk',\n",
              " 'Sp. Def',\n",
              " 'Speed',\n",
              " 'Generation',\n",
              " 'Legendary',\n",
              " 'totalDef',\n",
              " 'totalAtt']"
            ]
          },
          "metadata": {
            "tags": []
          },
          "execution_count": 150
        }
      ]
    },
    {
      "cell_type": "code",
      "metadata": {
        "id": "bVVCL51y35Vw",
        "colab_type": "code",
        "colab": {}
      },
      "source": [
        "#Creating column data source\n",
        "source = ColumnDataSource(myData)"
      ],
      "execution_count": 0,
      "outputs": []
    },
    {
      "cell_type": "code",
      "metadata": {
        "id": "_1HYWrYKO0w7",
        "colab_type": "code",
        "colab": {
          "base_uri": "https://localhost:8080/",
          "height": 34
        },
        "outputId": "d36d518f-7db8-4a60-c033-eec80749dfb0"
      },
      "source": [
        "\n",
        "#Plotting graph\n",
        "p = figure(plot_width=900, plot_height=400,x_axis_label='Total Attack', y_axis_label=\"Total Defense\",title=\"Pokemon \",\n",
        "           tools=\"\", toolbar_location=None, sizing_mode=\"scale_width\")\n",
        "p.circle(x='totalAtt', y='totalDef',source=source, size=10, color=\"red\", alpha=0.5\n",
        ")"
      ],
      "execution_count": 162,
      "outputs": [
        {
          "output_type": "execute_result",
          "data": {
            "text/html": [
              "<div style=\"display: table;\"><div style=\"display: table-row;\"><div style=\"display: table-cell;\"><b title=\"bokeh.models.renderers.GlyphRenderer\">GlyphRenderer</b>(</div><div style=\"display: table-cell;\">id&nbsp;=&nbsp;'8967', <span id=\"8970\" style=\"cursor: pointer;\">&hellip;)</span></div></div><div class=\"8969\" style=\"display: none;\"><div style=\"display: table-cell;\"></div><div style=\"display: table-cell;\">data_source&nbsp;=&nbsp;ColumnDataSource(id='8941', ...),</div></div><div class=\"8969\" style=\"display: none;\"><div style=\"display: table-cell;\"></div><div style=\"display: table-cell;\">glyph&nbsp;=&nbsp;Circle(id='8965', ...),</div></div><div class=\"8969\" style=\"display: none;\"><div style=\"display: table-cell;\"></div><div style=\"display: table-cell;\">hover_glyph&nbsp;=&nbsp;None,</div></div><div class=\"8969\" style=\"display: none;\"><div style=\"display: table-cell;\"></div><div style=\"display: table-cell;\">js_event_callbacks&nbsp;=&nbsp;{},</div></div><div class=\"8969\" style=\"display: none;\"><div style=\"display: table-cell;\"></div><div style=\"display: table-cell;\">js_property_callbacks&nbsp;=&nbsp;{},</div></div><div class=\"8969\" style=\"display: none;\"><div style=\"display: table-cell;\"></div><div style=\"display: table-cell;\">level&nbsp;=&nbsp;'glyph',</div></div><div class=\"8969\" style=\"display: none;\"><div style=\"display: table-cell;\"></div><div style=\"display: table-cell;\">muted&nbsp;=&nbsp;False,</div></div><div class=\"8969\" style=\"display: none;\"><div style=\"display: table-cell;\"></div><div style=\"display: table-cell;\">muted_glyph&nbsp;=&nbsp;None,</div></div><div class=\"8969\" style=\"display: none;\"><div style=\"display: table-cell;\"></div><div style=\"display: table-cell;\">name&nbsp;=&nbsp;None,</div></div><div class=\"8969\" style=\"display: none;\"><div style=\"display: table-cell;\"></div><div style=\"display: table-cell;\">nonselection_glyph&nbsp;=&nbsp;Circle(id='8966', ...),</div></div><div class=\"8969\" style=\"display: none;\"><div style=\"display: table-cell;\"></div><div style=\"display: table-cell;\">selection_glyph&nbsp;=&nbsp;None,</div></div><div class=\"8969\" style=\"display: none;\"><div style=\"display: table-cell;\"></div><div style=\"display: table-cell;\">subscribed_events&nbsp;=&nbsp;[],</div></div><div class=\"8969\" style=\"display: none;\"><div style=\"display: table-cell;\"></div><div style=\"display: table-cell;\">tags&nbsp;=&nbsp;[],</div></div><div class=\"8969\" style=\"display: none;\"><div style=\"display: table-cell;\"></div><div style=\"display: table-cell;\">view&nbsp;=&nbsp;CDSView(id='8968', ...),</div></div><div class=\"8969\" style=\"display: none;\"><div style=\"display: table-cell;\"></div><div style=\"display: table-cell;\">visible&nbsp;=&nbsp;True,</div></div><div class=\"8969\" style=\"display: none;\"><div style=\"display: table-cell;\"></div><div style=\"display: table-cell;\">x_range_name&nbsp;=&nbsp;'default',</div></div><div class=\"8969\" style=\"display: none;\"><div style=\"display: table-cell;\"></div><div style=\"display: table-cell;\">y_range_name&nbsp;=&nbsp;'default')</div></div></div>\n",
              "<script>\n",
              "(function() {\n",
              "  var expanded = false;\n",
              "  var ellipsis = document.getElementById(\"8970\");\n",
              "  ellipsis.addEventListener(\"click\", function() {\n",
              "    var rows = document.getElementsByClassName(\"8969\");\n",
              "    for (var i = 0; i < rows.length; i++) {\n",
              "      var el = rows[i];\n",
              "      el.style.display = expanded ? \"none\" : \"table-row\";\n",
              "    }\n",
              "    ellipsis.innerHTML = expanded ? \"&hellip;)\" : \"&lsaquo;&lsaquo;&lsaquo;\";\n",
              "    expanded = !expanded;\n",
              "  });\n",
              "})();\n",
              "</script>\n"
            ],
            "text/plain": [
              "GlyphRenderer(id='8967', ...)"
            ]
          },
          "metadata": {
            "tags": []
          },
          "execution_count": 162
        }
      ]
    },
    {
      "cell_type": "code",
      "metadata": {
        "id": "AZgGRKzOiENP",
        "colab_type": "code",
        "colab": {}
      },
      "source": [
        "hover = HoverTool()\n",
        "hover.tooltips=[\n",
        "                ('Pokemon','@Name'),\n",
        "                ('Total Attack','@totalAtt'),\n",
        "                ('Total Defense','@totalDef'),\n",
        "                ('Legendary','@Legendary')\n",
        "]\n",
        "\n",
        "p.add_tools(hover)"
      ],
      "execution_count": 0,
      "outputs": []
    },
    {
      "cell_type": "code",
      "metadata": {
        "id": "hvPqquPDasKV",
        "colab_type": "code",
        "colab": {
          "base_uri": "https://localhost:8080/",
          "height": 530
        },
        "outputId": "235e229c-84d7-47f7-b7b7-3a31a0e23a83"
      },
      "source": [
        "show(p)"
      ],
      "execution_count": 164,
      "outputs": [
        {
          "output_type": "display_data",
          "data": {
            "application/javascript": [
              "\n",
              "(function(root) {\n",
              "  function now() {\n",
              "    return new Date();\n",
              "  }\n",
              "\n",
              "  var force = true;\n",
              "\n",
              "  if (typeof root._bokeh_onload_callbacks === \"undefined\" || force === true) {\n",
              "    root._bokeh_onload_callbacks = [];\n",
              "    root._bokeh_is_loading = undefined;\n",
              "  }\n",
              "\n",
              "  var JS_MIME_TYPE = 'application/javascript';\n",
              "  var HTML_MIME_TYPE = 'text/html';\n",
              "  var EXEC_MIME_TYPE = 'application/vnd.bokehjs_exec.v0+json';\n",
              "  var CLASS_NAME = 'output_bokeh rendered_html';\n",
              "\n",
              "  /**\n",
              "   * Render data to the DOM node\n",
              "   */\n",
              "  function render(props, node) {\n",
              "    var script = document.createElement(\"script\");\n",
              "    node.appendChild(script);\n",
              "  }\n",
              "\n",
              "  /**\n",
              "   * Handle when an output is cleared or removed\n",
              "   */\n",
              "  function handleClearOutput(event, handle) {\n",
              "    var cell = handle.cell;\n",
              "\n",
              "    var id = cell.output_area._bokeh_element_id;\n",
              "    var server_id = cell.output_area._bokeh_server_id;\n",
              "    // Clean up Bokeh references\n",
              "    if (id != null && id in Bokeh.index) {\n",
              "      Bokeh.index[id].model.document.clear();\n",
              "      delete Bokeh.index[id];\n",
              "    }\n",
              "\n",
              "    if (server_id !== undefined) {\n",
              "      // Clean up Bokeh references\n",
              "      var cmd = \"from bokeh.io.state import curstate; print(curstate().uuid_to_server['\" + server_id + \"'].get_sessions()[0].document.roots[0]._id)\";\n",
              "      cell.notebook.kernel.execute(cmd, {\n",
              "        iopub: {\n",
              "          output: function(msg) {\n",
              "            var id = msg.content.text.trim();\n",
              "            if (id in Bokeh.index) {\n",
              "              Bokeh.index[id].model.document.clear();\n",
              "              delete Bokeh.index[id];\n",
              "            }\n",
              "          }\n",
              "        }\n",
              "      });\n",
              "      // Destroy server and session\n",
              "      var cmd = \"import bokeh.io.notebook as ion; ion.destroy_server('\" + server_id + \"')\";\n",
              "      cell.notebook.kernel.execute(cmd);\n",
              "    }\n",
              "  }\n",
              "\n",
              "  /**\n",
              "   * Handle when a new output is added\n",
              "   */\n",
              "  function handleAddOutput(event, handle) {\n",
              "    var output_area = handle.output_area;\n",
              "    var output = handle.output;\n",
              "\n",
              "    // limit handleAddOutput to display_data with EXEC_MIME_TYPE content only\n",
              "    if ((output.output_type != \"display_data\") || (!output.data.hasOwnProperty(EXEC_MIME_TYPE))) {\n",
              "      return\n",
              "    }\n",
              "\n",
              "    var toinsert = output_area.element.find(\".\" + CLASS_NAME.split(' ')[0]);\n",
              "\n",
              "    if (output.metadata[EXEC_MIME_TYPE][\"id\"] !== undefined) {\n",
              "      toinsert[toinsert.length - 1].firstChild.textContent = output.data[JS_MIME_TYPE];\n",
              "      // store reference to embed id on output_area\n",
              "      output_area._bokeh_element_id = output.metadata[EXEC_MIME_TYPE][\"id\"];\n",
              "    }\n",
              "    if (output.metadata[EXEC_MIME_TYPE][\"server_id\"] !== undefined) {\n",
              "      var bk_div = document.createElement(\"div\");\n",
              "      bk_div.innerHTML = output.data[HTML_MIME_TYPE];\n",
              "      var script_attrs = bk_div.children[0].attributes;\n",
              "      for (var i = 0; i < script_attrs.length; i++) {\n",
              "        toinsert[toinsert.length - 1].firstChild.setAttribute(script_attrs[i].name, script_attrs[i].value);\n",
              "      }\n",
              "      // store reference to server id on output_area\n",
              "      output_area._bokeh_server_id = output.metadata[EXEC_MIME_TYPE][\"server_id\"];\n",
              "    }\n",
              "  }\n",
              "\n",
              "  function register_renderer(events, OutputArea) {\n",
              "\n",
              "    function append_mime(data, metadata, element) {\n",
              "      // create a DOM node to render to\n",
              "      var toinsert = this.create_output_subarea(\n",
              "        metadata,\n",
              "        CLASS_NAME,\n",
              "        EXEC_MIME_TYPE\n",
              "      );\n",
              "      this.keyboard_manager.register_events(toinsert);\n",
              "      // Render to node\n",
              "      var props = {data: data, metadata: metadata[EXEC_MIME_TYPE]};\n",
              "      render(props, toinsert[toinsert.length - 1]);\n",
              "      element.append(toinsert);\n",
              "      return toinsert\n",
              "    }\n",
              "\n",
              "    /* Handle when an output is cleared or removed */\n",
              "    events.on('clear_output.CodeCell', handleClearOutput);\n",
              "    events.on('delete.Cell', handleClearOutput);\n",
              "\n",
              "    /* Handle when a new output is added */\n",
              "    events.on('output_added.OutputArea', handleAddOutput);\n",
              "\n",
              "    /**\n",
              "     * Register the mime type and append_mime function with output_area\n",
              "     */\n",
              "    OutputArea.prototype.register_mime_type(EXEC_MIME_TYPE, append_mime, {\n",
              "      /* Is output safe? */\n",
              "      safe: true,\n",
              "      /* Index of renderer in `output_area.display_order` */\n",
              "      index: 0\n",
              "    });\n",
              "  }\n",
              "\n",
              "  // register the mime type if in Jupyter Notebook environment and previously unregistered\n",
              "  if (root.Jupyter !== undefined) {\n",
              "    var events = require('base/js/events');\n",
              "    var OutputArea = require('notebook/js/outputarea').OutputArea;\n",
              "\n",
              "    if (OutputArea.prototype.mime_types().indexOf(EXEC_MIME_TYPE) == -1) {\n",
              "      register_renderer(events, OutputArea);\n",
              "    }\n",
              "  }\n",
              "\n",
              "  \n",
              "  if (typeof (root._bokeh_timeout) === \"undefined\" || force === true) {\n",
              "    root._bokeh_timeout = Date.now() + 5000;\n",
              "    root._bokeh_failed_load = false;\n",
              "  }\n",
              "\n",
              "  var NB_LOAD_WARNING = {'data': {'text/html':\n",
              "     \"<div style='background-color: #fdd'>\\n\"+\n",
              "     \"<p>\\n\"+\n",
              "     \"BokehJS does not appear to have successfully loaded. If loading BokehJS from CDN, this \\n\"+\n",
              "     \"may be due to a slow or bad network connection. Possible fixes:\\n\"+\n",
              "     \"</p>\\n\"+\n",
              "     \"<ul>\\n\"+\n",
              "     \"<li>re-rerun `output_notebook()` to attempt to load from CDN again, or</li>\\n\"+\n",
              "     \"<li>use INLINE resources instead, as so:</li>\\n\"+\n",
              "     \"</ul>\\n\"+\n",
              "     \"<code>\\n\"+\n",
              "     \"from bokeh.resources import INLINE\\n\"+\n",
              "     \"output_notebook(resources=INLINE)\\n\"+\n",
              "     \"</code>\\n\"+\n",
              "     \"</div>\"}};\n",
              "\n",
              "  function display_loaded() {\n",
              "    var el = document.getElementById(null);\n",
              "    if (el != null) {\n",
              "      el.textContent = \"BokehJS is loading...\";\n",
              "    }\n",
              "    if (root.Bokeh !== undefined) {\n",
              "      if (el != null) {\n",
              "        el.textContent = \"BokehJS \" + root.Bokeh.version + \" successfully loaded.\";\n",
              "      }\n",
              "    } else if (Date.now() < root._bokeh_timeout) {\n",
              "      setTimeout(display_loaded, 100)\n",
              "    }\n",
              "  }\n",
              "\n",
              "\n",
              "  function run_callbacks() {\n",
              "    try {\n",
              "      root._bokeh_onload_callbacks.forEach(function(callback) {\n",
              "        if (callback != null)\n",
              "          callback();\n",
              "      });\n",
              "    } finally {\n",
              "      delete root._bokeh_onload_callbacks\n",
              "    }\n",
              "    console.debug(\"Bokeh: all callbacks have finished\");\n",
              "  }\n",
              "\n",
              "  function load_libs(css_urls, js_urls, callback) {\n",
              "    if (css_urls == null) css_urls = [];\n",
              "    if (js_urls == null) js_urls = [];\n",
              "\n",
              "    root._bokeh_onload_callbacks.push(callback);\n",
              "    if (root._bokeh_is_loading > 0) {\n",
              "      console.debug(\"Bokeh: BokehJS is being loaded, scheduling callback at\", now());\n",
              "      return null;\n",
              "    }\n",
              "    if (js_urls == null || js_urls.length === 0) {\n",
              "      run_callbacks();\n",
              "      return null;\n",
              "    }\n",
              "    console.debug(\"Bokeh: BokehJS not loaded, scheduling load and callback at\", now());\n",
              "    root._bokeh_is_loading = css_urls.length + js_urls.length;\n",
              "\n",
              "    function on_load() {\n",
              "      root._bokeh_is_loading--;\n",
              "      if (root._bokeh_is_loading === 0) {\n",
              "        console.debug(\"Bokeh: all BokehJS libraries/stylesheets loaded\");\n",
              "        run_callbacks()\n",
              "      }\n",
              "    }\n",
              "\n",
              "    function on_error() {\n",
              "      console.error(\"failed to load \" + url);\n",
              "    }\n",
              "\n",
              "    for (var i = 0; i < css_urls.length; i++) {\n",
              "      var url = css_urls[i];\n",
              "      const element = document.createElement(\"link\");\n",
              "      element.onload = on_load;\n",
              "      element.onerror = on_error;\n",
              "      element.rel = \"stylesheet\";\n",
              "      element.type = \"text/css\";\n",
              "      element.href = url;\n",
              "      console.debug(\"Bokeh: injecting link tag for BokehJS stylesheet: \", url);\n",
              "      document.body.appendChild(element);\n",
              "    }\n",
              "\n",
              "    for (var i = 0; i < js_urls.length; i++) {\n",
              "      var url = js_urls[i];\n",
              "      var element = document.createElement('script');\n",
              "      element.onload = on_load;\n",
              "      element.onerror = on_error;\n",
              "      element.async = false;\n",
              "      element.src = url;\n",
              "      console.debug(\"Bokeh: injecting script tag for BokehJS library: \", url);\n",
              "      document.head.appendChild(element);\n",
              "    }\n",
              "  };\n",
              "\n",
              "  function inject_raw_css(css) {\n",
              "    const element = document.createElement(\"style\");\n",
              "    element.appendChild(document.createTextNode(css));\n",
              "    document.body.appendChild(element);\n",
              "  }\n",
              "\n",
              "  \n",
              "  var js_urls = [\"https://cdn.pydata.org/bokeh/release/bokeh-1.4.0.min.js\", \"https://cdn.pydata.org/bokeh/release/bokeh-widgets-1.4.0.min.js\", \"https://cdn.pydata.org/bokeh/release/bokeh-tables-1.4.0.min.js\", \"https://cdn.pydata.org/bokeh/release/bokeh-gl-1.4.0.min.js\"];\n",
              "  var css_urls = [];\n",
              "  \n",
              "\n",
              "  var inline_js = [\n",
              "    function(Bokeh) {\n",
              "      Bokeh.set_log_level(\"info\");\n",
              "    },\n",
              "    function(Bokeh) {\n",
              "    \n",
              "    \n",
              "    }\n",
              "  ];\n",
              "\n",
              "  function run_inline_js() {\n",
              "    \n",
              "    if (root.Bokeh !== undefined || force === true) {\n",
              "      \n",
              "    for (var i = 0; i < inline_js.length; i++) {\n",
              "      inline_js[i].call(root, root.Bokeh);\n",
              "    }\n",
              "    } else if (Date.now() < root._bokeh_timeout) {\n",
              "      setTimeout(run_inline_js, 100);\n",
              "    } else if (!root._bokeh_failed_load) {\n",
              "      console.log(\"Bokeh: BokehJS failed to load within specified timeout.\");\n",
              "      root._bokeh_failed_load = true;\n",
              "    } else if (force !== true) {\n",
              "      var cell = $(document.getElementById(null)).parents('.cell').data().cell;\n",
              "      cell.output_area.append_execute_result(NB_LOAD_WARNING)\n",
              "    }\n",
              "\n",
              "  }\n",
              "\n",
              "  if (root._bokeh_is_loading === 0) {\n",
              "    console.debug(\"Bokeh: BokehJS loaded, going straight to plotting\");\n",
              "    run_inline_js();\n",
              "  } else {\n",
              "    load_libs(css_urls, js_urls, function() {\n",
              "      console.debug(\"Bokeh: BokehJS plotting callback run at\", now());\n",
              "      run_inline_js();\n",
              "    });\n",
              "  }\n",
              "}(window));"
            ],
            "application/vnd.bokehjs_load.v0+json": "\n(function(root) {\n  function now() {\n    return new Date();\n  }\n\n  var force = true;\n\n  if (typeof root._bokeh_onload_callbacks === \"undefined\" || force === true) {\n    root._bokeh_onload_callbacks = [];\n    root._bokeh_is_loading = undefined;\n  }\n\n  \n\n  \n  if (typeof (root._bokeh_timeout) === \"undefined\" || force === true) {\n    root._bokeh_timeout = Date.now() + 5000;\n    root._bokeh_failed_load = false;\n  }\n\n  var NB_LOAD_WARNING = {'data': {'text/html':\n     \"<div style='background-color: #fdd'>\\n\"+\n     \"<p>\\n\"+\n     \"BokehJS does not appear to have successfully loaded. If loading BokehJS from CDN, this \\n\"+\n     \"may be due to a slow or bad network connection. Possible fixes:\\n\"+\n     \"</p>\\n\"+\n     \"<ul>\\n\"+\n     \"<li>re-rerun `output_notebook()` to attempt to load from CDN again, or</li>\\n\"+\n     \"<li>use INLINE resources instead, as so:</li>\\n\"+\n     \"</ul>\\n\"+\n     \"<code>\\n\"+\n     \"from bokeh.resources import INLINE\\n\"+\n     \"output_notebook(resources=INLINE)\\n\"+\n     \"</code>\\n\"+\n     \"</div>\"}};\n\n  function display_loaded() {\n    var el = document.getElementById(null);\n    if (el != null) {\n      el.textContent = \"BokehJS is loading...\";\n    }\n    if (root.Bokeh !== undefined) {\n      if (el != null) {\n        el.textContent = \"BokehJS \" + root.Bokeh.version + \" successfully loaded.\";\n      }\n    } else if (Date.now() < root._bokeh_timeout) {\n      setTimeout(display_loaded, 100)\n    }\n  }\n\n\n  function run_callbacks() {\n    try {\n      root._bokeh_onload_callbacks.forEach(function(callback) {\n        if (callback != null)\n          callback();\n      });\n    } finally {\n      delete root._bokeh_onload_callbacks\n    }\n    console.debug(\"Bokeh: all callbacks have finished\");\n  }\n\n  function load_libs(css_urls, js_urls, callback) {\n    if (css_urls == null) css_urls = [];\n    if (js_urls == null) js_urls = [];\n\n    root._bokeh_onload_callbacks.push(callback);\n    if (root._bokeh_is_loading > 0) {\n      console.debug(\"Bokeh: BokehJS is being loaded, scheduling callback at\", now());\n      return null;\n    }\n    if (js_urls == null || js_urls.length === 0) {\n      run_callbacks();\n      return null;\n    }\n    console.debug(\"Bokeh: BokehJS not loaded, scheduling load and callback at\", now());\n    root._bokeh_is_loading = css_urls.length + js_urls.length;\n\n    function on_load() {\n      root._bokeh_is_loading--;\n      if (root._bokeh_is_loading === 0) {\n        console.debug(\"Bokeh: all BokehJS libraries/stylesheets loaded\");\n        run_callbacks()\n      }\n    }\n\n    function on_error() {\n      console.error(\"failed to load \" + url);\n    }\n\n    for (var i = 0; i < css_urls.length; i++) {\n      var url = css_urls[i];\n      const element = document.createElement(\"link\");\n      element.onload = on_load;\n      element.onerror = on_error;\n      element.rel = \"stylesheet\";\n      element.type = \"text/css\";\n      element.href = url;\n      console.debug(\"Bokeh: injecting link tag for BokehJS stylesheet: \", url);\n      document.body.appendChild(element);\n    }\n\n    for (var i = 0; i < js_urls.length; i++) {\n      var url = js_urls[i];\n      var element = document.createElement('script');\n      element.onload = on_load;\n      element.onerror = on_error;\n      element.async = false;\n      element.src = url;\n      console.debug(\"Bokeh: injecting script tag for BokehJS library: \", url);\n      document.head.appendChild(element);\n    }\n  };\n\n  function inject_raw_css(css) {\n    const element = document.createElement(\"style\");\n    element.appendChild(document.createTextNode(css));\n    document.body.appendChild(element);\n  }\n\n  \n  var js_urls = [\"https://cdn.pydata.org/bokeh/release/bokeh-1.4.0.min.js\", \"https://cdn.pydata.org/bokeh/release/bokeh-widgets-1.4.0.min.js\", \"https://cdn.pydata.org/bokeh/release/bokeh-tables-1.4.0.min.js\", \"https://cdn.pydata.org/bokeh/release/bokeh-gl-1.4.0.min.js\"];\n  var css_urls = [];\n  \n\n  var inline_js = [\n    function(Bokeh) {\n      Bokeh.set_log_level(\"info\");\n    },\n    function(Bokeh) {\n    \n    \n    }\n  ];\n\n  function run_inline_js() {\n    \n    if (root.Bokeh !== undefined || force === true) {\n      \n    for (var i = 0; i < inline_js.length; i++) {\n      inline_js[i].call(root, root.Bokeh);\n    }\n    } else if (Date.now() < root._bokeh_timeout) {\n      setTimeout(run_inline_js, 100);\n    } else if (!root._bokeh_failed_load) {\n      console.log(\"Bokeh: BokehJS failed to load within specified timeout.\");\n      root._bokeh_failed_load = true;\n    } else if (force !== true) {\n      var cell = $(document.getElementById(null)).parents('.cell').data().cell;\n      cell.output_area.append_execute_result(NB_LOAD_WARNING)\n    }\n\n  }\n\n  if (root._bokeh_is_loading === 0) {\n    console.debug(\"Bokeh: BokehJS loaded, going straight to plotting\");\n    run_inline_js();\n  } else {\n    load_libs(css_urls, js_urls, function() {\n      console.debug(\"Bokeh: BokehJS plotting callback run at\", now());\n      run_inline_js();\n    });\n  }\n}(window));"
          },
          "metadata": {
            "tags": []
          }
        },
        {
          "output_type": "display_data",
          "data": {
            "text/html": [
              "\n",
              "\n",
              "\n",
              "\n",
              "\n",
              "\n",
              "  <div class=\"bk-root\" id=\"b1781f9a-9429-4abb-b528-2ff364e9d1dc\" data-root-id=\"8942\"></div>\n"
            ]
          },
          "metadata": {
            "tags": []
          }
        },
        {
          "output_type": "display_data",
          "data": {
            "application/javascript": [
              "(function(root) {\n",
              "  function embed_document(root) {\n",
              "    \n",
              "  var docs_json = {\"9a4ce85e-f6cc-425f-adae-6445e563ab0e\":{\"roots\":{\"references\":[{\"attributes\":{\"below\":[{\"id\":\"8953\",\"type\":\"LinearAxis\"}],\"center\":[{\"id\":\"8957\",\"type\":\"Grid\"},{\"id\":\"8962\",\"type\":\"Grid\"}],\"left\":[{\"id\":\"8958\",\"type\":\"LinearAxis\"}],\"plot_height\":400,\"plot_width\":900,\"renderers\":[{\"id\":\"8967\",\"type\":\"GlyphRenderer\"}],\"sizing_mode\":\"scale_width\",\"title\":{\"id\":\"8943\",\"type\":\"Title\"},\"toolbar\":{\"id\":\"8963\",\"type\":\"Toolbar\"},\"toolbar_location\":null,\"x_range\":{\"id\":\"8945\",\"type\":\"DataRange1d\"},\"x_scale\":{\"id\":\"8949\",\"type\":\"LinearScale\"},\"y_range\":{\"id\":\"8947\",\"type\":\"DataRange1d\"},\"y_scale\":{\"id\":\"8951\",\"type\":\"LinearScale\"}},\"id\":\"8942\",\"subtype\":\"Figure\",\"type\":\"Plot\"},{\"attributes\":{},\"id\":\"8951\",\"type\":\"LinearScale\"},{\"attributes\":{},\"id\":\"8954\",\"type\":\"BasicTicker\"},{\"attributes\":{},\"id\":\"9135\",\"type\":\"UnionRenderers\"},{\"attributes\":{},\"id\":\"9133\",\"type\":\"BasicTickFormatter\"},{\"attributes\":{\"ticker\":{\"id\":\"8954\",\"type\":\"BasicTicker\"}},\"id\":\"8957\",\"type\":\"Grid\"},{\"attributes\":{\"fill_alpha\":{\"value\":0.5},\"fill_color\":{\"value\":\"red\"},\"line_alpha\":{\"value\":0.5},\"line_color\":{\"value\":\"red\"},\"size\":{\"units\":\"screen\",\"value\":10},\"x\":{\"field\":\"totalAtt\"},\"y\":{\"field\":\"totalDef\"}},\"id\":\"8965\",\"type\":\"Circle\"},{\"attributes\":{\"source\":{\"id\":\"8941\",\"type\":\"ColumnDataSource\"}},\"id\":\"8968\",\"type\":\"CDSView\"},{\"attributes\":{},\"id\":\"8959\",\"type\":\"BasicTicker\"},{\"attributes\":{},\"id\":\"8949\",\"type\":\"LinearScale\"},{\"attributes\":{\"callback\":null,\"data\":{\"Attack\":[50,95,35,5,57,75,85,40,80,110,100,82,45,155,85,100,95,48,70,80,90,65,110,65,60,64,90,80,45,81,150,75,150,125,50,80,84,102,100,80,130,60,80,35,100,45,65,73,70,30,120,75,72,80,45,105,52,105,55,92,82,55,110,95,52,85,95,90,50,45,95,60,120,65,60,70,63,76,65,90,65,110,20,62,105,40,70,100,95,65,62,55,65,45,60,41,65,70,56,25,83,130,95,10,135,75,125,65,65,49,70,55,45,40,110,48,90,105,84,67,125,30,80,20,85,80,50,130,45,50,35,45,64,50,70,80,90,115,85,35,45,100,190,40,55,130,104,65,55,50,48,85,134,130,75,103,105,47,92,83,105,60,80,100,50,155],\"Defense\":[35,115,30,5,40,110,69,35,70,80,90,83,65,120,100,70,95,45,80,50,65,70,70,55,95,45,55,90,40,60,70,35,40,100,40,80,65,77,110,85,60,55,110,70,100,35,95,70,65,50,130,85,57,100,55,75,48,79,50,87,78,115,65,80,43,55,57,120,95,55,80,44,53,60,70,45,80,75,60,50,60,90,15,67,90,100,73,70,85,80,63,75,65,20,125,40,60,45,35,50,57,120,180,55,85,85,79,95,65,49,55,25,35,70,80,65,40,60,78,60,100,35,50,55,95,75,70,111,160,65,30,50,58,55,60,50,85,105,80,30,48,123,100,80,50,80,78,100,40,45,48,45,95,115,180,120,65,52,65,100,65,30,35,95,45,109],\"Generation\":[1,1,1,1,1,1,1,1,1,1,1,1,1,1,1,1,1,1,1,1,1,1,1,1,1,1,1,1,1,1,1,1,1,1,1,1,1,1,1,1,1,1,1,1,1,1,1,1,1,1,1,1,1,1,1,1,1,1,1,1,1,1,1,1,1,1,1,1,1,1,1,1,1,1,1,1,1,1,1,1,1,1,1,1,1,1,1,1,1,1,1,1,1,1,1,1,1,1,1,1,1,1,1,1,1,1,1,1,1,1,1,1,1,1,1,1,1,1,1,1,1,1,1,1,1,1,1,1,1,1,1,1,1,1,1,1,1,1,1,1,1,1,1,1,1,1,1,1,1,1,1,1,1,1,1,1,1,1,1,1,1,1,1,1,1,1],\"HP\":[65,55,40,250,46,95,60,40,75,70,90,80,40,65,90,65,90,60,90,70,65,60,60,52,50,41,60,30,40,55,106,50,65,105,40,83,61,81,75,75,65,63,60,25,100,40,55,85,80,40,80,60,61,40,65,105,50,50,55,90,80,65,160,60,39,50,65,65,50,30,105,35,50,70,65,55,59,73,60,65,65,106,25,70,30,35,95,80,95,60,60,90,65,115,70,38,130,140,30,45,65,105,50,20,80,50,95,40,90,45,35,10,40,30,90,44,65,65,78,45,65,45,80,50,80,83,60,78,35,55,30,60,58,45,65,35,90,60,130,40,70,80,106,60,60,90,78,30,35,55,48,35,91,55,95,79,80,55,80,79,80,40,40,75,45,95],\"Legendary\":[\"F\",\"F\",\"F\",\"F\",\"F\",\"F\",\"F\",\"F\",\"F\",\"F\",\"T\",\"F\",\"F\",\"F\",\"T\",\"F\",\"F\",\"F\",\"F\",\"F\",\"F\",\"F\",\"F\",\"F\",\"F\",\"F\",\"F\",\"F\",\"F\",\"F\",\"T\",\"F\",\"F\",\"F\",\"F\",\"F\",\"F\",\"F\",\"F\",\"F\",\"F\",\"F\",\"F\",\"F\",\"F\",\"F\",\"F\",\"F\",\"F\",\"F\",\"F\",\"F\",\"F\",\"F\",\"F\",\"F\",\"F\",\"F\",\"F\",\"F\",\"F\",\"F\",\"F\",\"F\",\"F\",\"F\",\"F\",\"F\",\"F\",\"F\",\"F\",\"F\",\"F\",\"F\",\"F\",\"F\",\"F\",\"F\",\"F\",\"F\",\"F\",\"T\",\"F\",\"F\",\"F\",\"F\",\"F\",\"F\",\"F\",\"F\",\"F\",\"F\",\"F\",\"F\",\"F\",\"F\",\"F\",\"F\",\"F\",\"F\",\"F\",\"F\",\"F\",\"F\",\"F\",\"F\",\"F\",\"F\",\"F\",\"F\",\"F\",\"F\",\"F\",\"F\",\"F\",\"F\",\"F\",\"F\",\"F\",\"F\",\"F\",\"F\",\"F\",\"F\",\"F\",\"F\",\"F\",\"F\",\"F\",\"F\",\"F\",\"F\",\"F\",\"F\",\"F\",\"F\",\"T\",\"F\",\"F\",\"F\",\"F\",\"F\",\"T\",\"F\",\"F\",\"F\",\"F\",\"F\",\"F\",\"F\",\"F\",\"F\",\"F\",\"F\",\"F\",\"F\",\"F\",\"F\",\"F\",\"F\",\"F\",\"F\",\"F\",\"F\",\"F\",\"F\"],\"Name\":[\"Jynx\",\"Graveler\",\"Weedle\",\"Chansey\",\"Nidoran\\u2642\",\"Slowbro\",\"Arbok\",\"Tentacool\",\"Golbat\",\"Scyther\",\"Moltres\",\"Venusaur\",\"Mr. Mime\",\"PinsirMega Pinsir\",\"Articuno\",\"Rapidash\",\"Poliwrath\",\"Drowzee\",\"Dewgong\",\"Machop\",\"Fearow\",\"Gloom\",\"Dodrio\",\"Farfetch'd\",\"Magneton\",\"Dratini\",\"Raichu\",\"Kabuto\",\"Pidgey\",\"Raticate\",\"MewtwoMega Mewtwo Y\",\"Bellsprout\",\"BeedrillMega Beedrill\",\"KangaskhanMega Kangaskhan\",\"Poliwag\",\"PidgeotMega Pidgeot\",\"Dragonair\",\"Nidoking\",\"Sandslash\",\"Vileplume\",\"Flareon\",\"Pidgeotto\",\"Marowak\",\"Magnemite\",\"Mew\",\"Zubat\",\"Seadra\",\"Hypno\",\"Tentacruel\",\"Voltorb\",\"Golem\",\"Starmie\",\"Nidorino\",\"Geodude\",\"Seel\",\"Muk\",\"Psyduck\",\"Hitmonchan\",\"Eevee\",\"Nidoqueen\",\"Golduck\",\"Tangela\",\"Snorlax\",\"Parasect\",\"Charmander\",\"Ponyta\",\"Magmar\",\"Weezing\",\"Cubone\",\"Staryu\",\"Kangaskhan\",\"Ekans\",\"Hitmonlee\",\"Venomoth\",\"Porygon\",\"Growlithe\",\"Wartortle\",\"Ninetales\",\"Gengar\",\"Weepinbell\",\"Jolteon\",\"Mewtwo\",\"Abra\",\"Nidorina\",\"Krabby\",\"Omanyte\",\"Clefable\",\"Machoke\",\"Exeggutor\",\"GengarMega Gengar\",\"Ivysaur\",\"Lickitung\",\"Poliwhirl\",\"Jigglypuff\",\"Omastar\",\"Vulpix\",\"Vaporeon\",\"Wigglytuff\",\"Rattata\",\"Kakuna\",\"Electabuzz\",\"Rhydon\",\"Cloyster\",\"Magikarp\",\"AerodactylMega Aerodactyl\",\"Sandshrew\",\"Gyarados\",\"Koffing\",\"Slowpoke\",\"Bulbasaur\",\"Paras\",\"Diglett\",\"Meowth\",\"Horsea\",\"Arcanine\",\"Squirtle\",\"Beedrill\",\"Primeape\",\"Charizard\",\"Goldeen\",\"Pinsir\",\"Caterpie\",\"Grimer\",\"Metapod\",\"Rhyhorn\",\"Pidgeot\",\"Electrode\",\"CharizardMega Charizard X\",\"Onix\",\"AlakazamMega Alakazam\",\"Gastly\",\"Butterfree\",\"Charmeleon\",\"Oddish\",\"Persian\",\"Dugtrio\",\"Zapdos\",\"Kabutops\",\"Lapras\",\"Kadabra\",\"Clefairy\",\"VenusaurMega Venusaur\",\"MewtwoMega Mewtwo X\",\"Exeggcute\",\"Venonat\",\"Machamp\",\"CharizardMega Charizard Y\",\"Shellder\",\"Pikachu\",\"Alakazam\",\"Ditto\",\"Doduo\",\"Dragonite\",\"Kingler\",\"SlowbroMega Slowbro\",\"BlastoiseMega Blastoise\",\"Victreebel\",\"Nidoran\\u2640\",\"Seaking\",\"Blastoise\",\"Aerodactyl\",\"Spearow\",\"Mankey\",\"Tauros\",\"Haunter\",\"GyaradosMega Gyarados\"],\"Sp. Atk\":[115,45,20,35,40,100,65,50,65,55,125,100,100,65,95,80,70,43,70,35,61,85,60,58,120,50,90,55,35,50,194,70,15,60,40,135,70,85,45,110,95,50,50,95,100,30,95,73,80,55,55,100,55,30,45,65,65,35,45,75,95,100,65,60,60,65,100,85,40,70,40,40,35,90,85,70,65,81,130,85,110,154,105,55,25,90,95,50,125,170,80,60,50,45,115,50,110,85,25,25,95,45,85,15,70,20,60,60,40,65,45,35,40,70,100,50,45,60,109,35,55,20,40,25,30,70,80,130,30,175,100,90,80,75,65,50,125,65,85,120,60,122,154,60,40,65,159,45,50,135,48,35,100,50,130,135,100,40,65,85,60,31,35,40,115,70],\"Sp. Def\":[95,45,20,105,40,80,79,100,75,80,85,100,120,90,125,80,90,90,95,35,61,75,60,62,70,50,80,45,35,70,120,30,80,100,40,80,70,75,55,90,110,50,80,55,100,40,45,115,120,55,65,85,55,30,70,100,50,110,65,85,80,40,110,80,50,65,85,70,50,55,80,54,110,75,75,50,80,100,75,45,95,90,55,55,25,55,90,60,65,95,80,75,50,25,70,65,95,50,35,25,85,45,45,20,95,30,100,45,40,65,55,45,40,25,80,64,80,70,85,50,70,20,50,25,30,70,80,85,45,95,35,80,65,65,65,70,90,70,95,70,65,120,100,45,55,85,115,25,50,95,48,35,100,50,80,115,70,40,80,105,75,31,45,70,55,130],\"Speed\":[95,35,50,50,50,30,80,70,90,105,90,80,90,105,85,105,70,42,70,35,100,40,100,60,70,50,110,55,56,97,140,40,145,100,90,121,70,85,65,50,65,71,45,45,100,55,85,67,100,100,45,115,65,20,45,50,55,76,55,76,85,60,30,30,65,90,93,60,35,85,90,55,87,90,40,60,58,100,110,55,130,130,90,56,50,35,60,45,55,130,60,30,90,20,55,65,65,45,72,35,105,40,70,80,150,40,81,35,15,45,25,95,90,60,95,43,75,95,100,63,85,45,25,30,25,101,140,100,70,150,80,70,80,30,115,120,100,80,60,105,35,80,130,40,45,55,100,40,90,120,48,75,80,75,30,78,70,41,68,78,130,70,70,110,95,81],\"Total\":[455,390,195,450,273,490,438,335,455,500,580,525,460,600,580,500,510,328,475,305,442,395,460,352,465,300,485,355,251,413,780,300,495,590,300,579,420,505,450,490,525,349,425,325,600,245,440,483,515,330,495,520,365,300,325,500,320,455,325,505,500,435,540,405,309,410,495,490,320,340,490,288,455,450,395,350,405,505,500,390,525,680,310,365,325,355,483,405,520,600,405,385,385,270,495,299,525,435,253,205,490,485,525,200,615,300,540,340,315,318,285,265,290,295,555,314,395,455,534,320,500,195,325,205,345,479,480,634,385,590,310,395,405,320,440,405,580,495,535,400,323,625,780,325,305,505,634,305,320,500,288,310,600,475,590,630,490,275,450,530,515,262,305,490,405,640],\"index\":[133,81,16,121,37,86,29,78,47,132,158,2,131,137,156,84,67,104,94,72,27,49,92,90,89,159,31,151,20,25,164,75,19,124,65,23,160,39,33,50,147,21,113,88,165,46,126,105,79,108,82,130,38,80,93,96,59,115,144,36,60,122,155,52,4,83,135,118,112,129,123,28,114,54,148,63,10,43,101,76,146,162,68,35,106,149,41,73,111,102,1,116,66,44,150,42,145,45,24,17,134,120,98,139,154,32,140,117,85,0,51,55,57,125,64,9,18,62,6,127,136,13,95,14,119,22,109,7,103,71,99,15,5,48,58,56,157,152,142,69,40,3,163,110,53,74,8,97,30,70,143,91,161,107,87,12,77,34,128,11,153,26,61,138,100,141],\"totalAtt\":[165,140,55,40,97,175,150,90,145,165,225,182,145,220,180,180,165,91,140,115,151,150,170,123,180,114,180,135,80,131,344,145,165,185,90,215,154,187,145,190,225,110,130,130,200,75,160,146,150,85,175,175,127,110,90,170,117,140,100,167,177,155,175,155,112,150,195,175,90,115,135,100,155,155,145,140,128,157,195,175,175,264,125,117,130,130,165,150,220,235,142,115,115,90,175,91,175,155,81,50,178,175,180,25,205,95,185,125,105,114,115,90,85,110,210,98,135,165,193,102,180,50,120,45,115,150,130,260,75,225,135,135,144,125,135,130,215,180,170,155,105,222,344,100,95,195,263,110,105,185,96,120,234,180,205,238,205,87,157,168,165,91,115,140,165,225],\"totalDef\":[130,160,50,110,80,190,148,135,145,160,175,183,185,210,225,150,185,135,175,85,126,145,130,117,165,95,135,135,75,130,190,65,120,200,80,160,135,152,165,175,170,105,190,125,200,75,140,185,185,105,195,170,112,130,125,175,98,189,115,172,158,155,175,160,93,120,142,190,145,110,160,98,163,135,145,95,160,175,135,95,155,180,70,122,115,155,163,130,150,175,143,150,115,45,195,105,155,95,70,75,142,165,225,75,180,115,179,140,105,114,110,70,75,95,160,129,120,130,163,110,170,55,100,80,125,145,150,196,205,160,65,130,123,120,125,120,175,175,175,100,113,243,200,125,105,165,193,125,90,140,96,80,195,165,260,235,135,92,145,205,140,61,80,165,100,239]},\"selected\":{\"id\":\"9136\",\"type\":\"Selection\"},\"selection_policy\":{\"id\":\"9135\",\"type\":\"UnionRenderers\"}},\"id\":\"8941\",\"type\":\"ColumnDataSource\"},{\"attributes\":{\"fill_alpha\":{\"value\":0.1},\"fill_color\":{\"value\":\"#1f77b4\"},\"line_alpha\":{\"value\":0.1},\"line_color\":{\"value\":\"#1f77b4\"},\"size\":{\"units\":\"screen\",\"value\":10},\"x\":{\"field\":\"totalAtt\"},\"y\":{\"field\":\"totalDef\"}},\"id\":\"8966\",\"type\":\"Circle\"},{\"attributes\":{\"data_source\":{\"id\":\"8941\",\"type\":\"ColumnDataSource\"},\"glyph\":{\"id\":\"8965\",\"type\":\"Circle\"},\"hover_glyph\":null,\"muted_glyph\":null,\"nonselection_glyph\":{\"id\":\"8966\",\"type\":\"Circle\"},\"selection_glyph\":null,\"view\":{\"id\":\"8968\",\"type\":\"CDSView\"}},\"id\":\"8967\",\"type\":\"GlyphRenderer\"},{\"attributes\":{\"dimension\":1,\"ticker\":{\"id\":\"8959\",\"type\":\"BasicTicker\"}},\"id\":\"8962\",\"type\":\"Grid\"},{\"attributes\":{\"active_drag\":\"auto\",\"active_inspect\":\"auto\",\"active_multi\":null,\"active_scroll\":\"auto\",\"active_tap\":\"auto\",\"tools\":[{\"id\":\"8971\",\"type\":\"HoverTool\"}]},\"id\":\"8963\",\"type\":\"Toolbar\"},{\"attributes\":{\"axis_label\":\"Total Defense\",\"formatter\":{\"id\":\"9131\",\"type\":\"BasicTickFormatter\"},\"ticker\":{\"id\":\"8959\",\"type\":\"BasicTicker\"}},\"id\":\"8958\",\"type\":\"LinearAxis\"},{\"attributes\":{},\"id\":\"9136\",\"type\":\"Selection\"},{\"attributes\":{},\"id\":\"9131\",\"type\":\"BasicTickFormatter\"},{\"attributes\":{\"callback\":null,\"tooltips\":[[\"Pokemon\",\"@Name\"],[\"Total Attack\",\"@totalAtt\"],[\"Total Defense\",\"@totalDef\"],[\"Legendary\",\"@Legendary\"]]},\"id\":\"8971\",\"type\":\"HoverTool\"},{\"attributes\":{\"text\":\"Pokemon \"},\"id\":\"8943\",\"type\":\"Title\"},{\"attributes\":{\"callback\":null},\"id\":\"8947\",\"type\":\"DataRange1d\"},{\"attributes\":{\"callback\":null},\"id\":\"8945\",\"type\":\"DataRange1d\"},{\"attributes\":{\"axis_label\":\"Total Attack\",\"formatter\":{\"id\":\"9133\",\"type\":\"BasicTickFormatter\"},\"ticker\":{\"id\":\"8954\",\"type\":\"BasicTicker\"}},\"id\":\"8953\",\"type\":\"LinearAxis\"}],\"root_ids\":[\"8942\"]},\"title\":\"Bokeh Application\",\"version\":\"1.4.0\"}};\n",
              "  var render_items = [{\"docid\":\"9a4ce85e-f6cc-425f-adae-6445e563ab0e\",\"roots\":{\"8942\":\"b1781f9a-9429-4abb-b528-2ff364e9d1dc\"}}];\n",
              "  root.Bokeh.embed.embed_items_notebook(docs_json, render_items);\n",
              "\n",
              "  }\n",
              "  if (root.Bokeh !== undefined) {\n",
              "    embed_document(root);\n",
              "  } else {\n",
              "    var attempts = 0;\n",
              "    var timer = setInterval(function(root) {\n",
              "      if (root.Bokeh !== undefined) {\n",
              "        clearInterval(timer);\n",
              "        embed_document(root);\n",
              "      } else {\n",
              "        attempts++;\n",
              "        if (attempts > 100) {\n",
              "          clearInterval(timer);\n",
              "          console.log(\"Bokeh: ERROR: Unable to run BokehJS code because BokehJS library is missing\");\n",
              "        }\n",
              "      }\n",
              "    }, 10, root)\n",
              "  }\n",
              "})(window);"
            ],
            "application/vnd.bokehjs_exec.v0+json": ""
          },
          "metadata": {
            "tags": [],
            "application/vnd.bokehjs_exec.v0+json": {
              "id": "8942"
            }
          }
        }
      ]
    },
    {
      "cell_type": "code",
      "metadata": {
        "id": "vVYvACGfchcU",
        "colab_type": "code",
        "colab": {}
      },
      "source": [
        ""
      ],
      "execution_count": 0,
      "outputs": []
    }
  ]
}